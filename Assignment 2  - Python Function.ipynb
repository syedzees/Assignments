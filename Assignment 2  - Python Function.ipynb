{
 "cells": [
  {
   "cell_type": "markdown",
   "metadata": {},
   "source": [
    "## Problem Statement"
   ]
  },
  {
   "cell_type": "markdown",
   "metadata": {},
   "source": [
    "Q.1 Write a Python Program to implement your own myreduce() function which works exactly like\n",
    "Python's built-in function reduce()\n"
   ]
  },
  {
   "cell_type": "code",
   "execution_count": 5,
   "metadata": {},
   "outputs": [
    {
     "name": "stdout",
     "output_type": "stream",
     "text": [
      "Power on list[2,3] using custom reduce function 27\n"
     ]
    }
   ],
   "source": [
    "def myreduce(func, seq):\n",
    "    res = seq[0]\n",
    "    for i in seq[1:]:\n",
    "        res = func(res, i)\n",
    "    return res\n",
    "\n",
    "def pow(a,b):\n",
    "    return a**b\n",
    "\n",
    "print (\"Power on list[2,3] using custom reduce function \"   + str(myreduce(pow,[3,3])))\n"
   ]
  },
  {
   "cell_type": "markdown",
   "metadata": {},
   "source": [
    "Q.2 Write a Python program to implement your own myfilter() function which works exactly like\n",
    "Python's built-in function filter()"
   ]
  },
  {
   "cell_type": "code",
   "execution_count": 20,
   "metadata": {},
   "outputs": [
    {
     "name": "stdout",
     "output_type": "stream",
     "text": [
      "The even numbers in the list[1,2,3,4,5,6] are [2, 4, 6]\n"
     ]
    }
   ],
   "source": [
    "def myfilter(func, lst):\n",
    "    res = []\n",
    "    for i in lst:\n",
    "        if func(i):\n",
    "            res.append(i)\n",
    "    return(res)\n",
    "\n",
    "def ifeven(x):\n",
    "    if (x % 2) == 0:\n",
    "        return True\n",
    "    else:\n",
    "        return False\n",
    "    \n",
    "print(\"The even numbers in the list[1,2,3,4,5,6] are \" + str(myfilter(ifeven,[1,2,3,4,5,6])))"
   ]
  },
  {
   "cell_type": "markdown",
   "metadata": {},
   "source": [
    "Q.3 Implement List comprehensions to produce the following lists.\n",
    "   Write List comprehensions to produce the following Lists\n",
    "   \n",
    "    ['A', 'C', 'A', 'D', 'G', 'I', ’L’, ‘ D’]\n",
    "   \n",
    "    ['x', 'xx', 'xxx', 'xxxx', 'y', 'yy', 'yyy', 'yyyy', 'z', 'zz', 'zzz', 'zzzz']\n",
    "\n",
    "    ['x', 'y', 'z', 'xx', 'yy', 'zz', 'xx', 'yy', 'zz', 'xxxx', 'yyyy', 'zzzz']\n",
    "    \n",
    "    [[2], [3], [4], [3], [4], [5], [4], [5], [6]]\n",
    "\n",
    "    [[2, 3, 4, 5], [3, 4, 5, 6], [4, 5, 6, 7], [5, 6, 7, 8]]\n",
    "\n",
    "    [(1, 1), (2, 1), (3, 1), (1, 2), (2, 2), (3, 2), (1, 3), (2, 3), (3, 3)]"
   ]
  },
  {
   "cell_type": "code",
   "execution_count": 42,
   "metadata": {},
   "outputs": [
    {
     "name": "stdout",
     "output_type": "stream",
     "text": [
      "ACADGILD is ['A', 'C', 'A', 'D', 'G', 'I', 'L', 'D']\n",
      "[x,y,z] is ['x', 'xx', 'xxx', 'xxxx', 'y', 'yy', 'yyy', 'yyyy', 'z', 'zz', 'zzz', 'zzzz']\n",
      "[x,y,z] is ['x', 'y', 'z', 'xx', 'yy', 'zz', 'xxx', 'yyy', 'zzz', 'xxxx', 'yyyy', 'zzzz']\n",
      "[2,3,4] is [[2], [3], [4], [3], [4], [5], [4], [5], [6]]\n",
      "[2,3,4,5] is [[2, 3, 4, 5], [3, 4, 5, 6], [4, 5, 6, 7]]\n",
      "[1,2,3] is [(1, 1), (2, 1), (3, 1), (1, 2), (2, 2), (3, 2), (1, 3), (2, 3), (3, 3)]\n"
     ]
    }
   ],
   "source": [
    "input1 = \"ACADGILD\"\n",
    "output1 = [i for i in input1]\n",
    "print(\"ACADGILD is \" + str(output1))\n",
    "\n",
    "input2= [\"x\",\"y\",\"z\"]\n",
    "output2= [i*n for i in input2 for n in range(1,5)]\n",
    "print(\"[x,y,z] is \" + str(output2))\n",
    "\n",
    "input3= [\"x\",\"y\",\"z\"]\n",
    "output3= [i*n for n in range(1,5) for i in input3]\n",
    "print(\"[x,y,z] is \" + str(output3))\n",
    "\n",
    "input4 = [2,3,4]\n",
    "output4 = [[i+n] for i in input4 for n in range(0,3)]\n",
    "print(\"[2,3,4] is \" + str(output4))\n",
    "\n",
    "input5 = [2,3,4,5]\n",
    "output5 = [[i+n for i in input5] for n in range(0,3)]\n",
    "print(\"[2,3,4,5] is \" + str(output5))\n",
    "\n",
    "input6 = [1,2,3]\n",
    "output6 = [(a,b) for b in input6 for a in input6]\n",
    "print(\"[1,2,3] is \" + str(output6))\n"
   ]
  },
  {
   "cell_type": "markdown",
   "metadata": {},
   "source": [
    "Q.4 Implement a function longestWord() that takes a list of words and returns the longest one."
   ]
  },
  {
   "cell_type": "code",
   "execution_count": 58,
   "metadata": {},
   "outputs": [
    {
     "name": "stdout",
     "output_type": "stream",
     "text": [
      "Machine Learning\n"
     ]
    }
   ],
   "source": [
    "def longestWord(words):\n",
    "    res = []\n",
    "    for i in words:\n",
    "        res.append((len(i),i))\n",
    "    res.sort()\n",
    "    return res[-1][-1]\n",
    "    \n",
    "print(longestWord([\"Deep learning\",\"Machine Learning\",\"Computer Vision\"]))\n"
   ]
  },
  {
   "cell_type": "markdown",
   "metadata": {},
   "source": [
    "Q.5 Write a Python Program(with class concepts) to find the area of the triangle using the below\n",
    "formula.\n",
    "\n",
    "area = (s*(s-a)*(s-b)*(s-c)) ** 0.5\n",
    "\n",
    "Function to take the length of the sides of triangle from user should be defined in the parent\n",
    "class and function to calculate the area should be defined in subclass."
   ]
  },
  {
   "cell_type": "code",
   "execution_count": 73,
   "metadata": {},
   "outputs": [
    {
     "name": "stdout",
     "output_type": "stream",
     "text": [
      "Enter side1: 5\n",
      "Enter side2: 6\n",
      "Enter side3: 7\n",
      "The Area of a Triangle is 14.70\n"
     ]
    }
   ],
   "source": [
    "import math\n",
    "\n",
    "def Area_of_Triangle(a, b, c):\n",
    "    \n",
    "    s = (a + b + c) / 2\n",
    "    Area = math.sqrt((s*(s-a)*(s-b)*(s-c)))\n",
    "\n",
    "    print(\"The Area of a Triangle is %0.2f\" %Area)\n",
    "\n",
    "a = float(input(\"Enter side1: \"))\n",
    "b = float(input(\"Enter side2: \"))\n",
    "c = float(input(\"Enter side3: \"))\n",
    "Area_of_Triangle(a, b, c)"
   ]
  },
  {
   "cell_type": "markdown",
   "metadata": {},
   "source": [
    "Q.6 Write a function filter_long_words() that takes a list of words and an integer n and returns the list\n",
    "of words that are longer than n."
   ]
  },
  {
   "cell_type": "code",
   "execution_count": 79,
   "metadata": {},
   "outputs": [
    {
     "name": "stdout",
     "output_type": "stream",
     "text": [
      "['Welcome', 'Artificial', 'Intelligence']\n"
     ]
    }
   ],
   "source": [
    "def filter_long_words(n, str):\n",
    "    word_len = []\n",
    "    sentence = str.split(\" \")\n",
    "    for x in sentence:\n",
    "        if len(x) > n:\n",
    "            word_len.append(x)\n",
    "    return word_len\n",
    "print(long_words(5, \"Welcome to the world of Artificial Intelligence\"))"
   ]
  },
  {
   "cell_type": "markdown",
   "metadata": {},
   "source": [
    "Q.7 Write a Python program using function concept that maps list of words into a list of integers\n",
    "representing the lengths of the corresponding words.\n",
    "    \n",
    "    Hint: If a list [ ab,cde,erty] is passed on to the python function output should come as [2,3,4]\n",
    "    Here 2,3 and 4 are the lengths of the words in the list."
   ]
  },
  {
   "cell_type": "code",
   "execution_count": 90,
   "metadata": {},
   "outputs": [
    {
     "name": "stdout",
     "output_type": "stream",
     "text": [
      "Word length is [2, 3, 4]\n"
     ]
    }
   ],
   "source": [
    "def map_len(lst):\n",
    "    return list(map(lambda x:len(x),lst))\n",
    "\n",
    "lst = [\"ab\",\"cde\",\"erty\"]\n",
    "\n",
    "print (\"Word length is \" + str(map_len(lst)))"
   ]
  },
  {
   "cell_type": "markdown",
   "metadata": {},
   "source": [
    "Q.8 Write a Python function which takes a character (i.e. a string of length 1) and returns True if it is\n",
    "a vowel, False otherwise."
   ]
  },
  {
   "cell_type": "code",
   "execution_count": 99,
   "metadata": {},
   "outputs": [
    {
     "data": {
      "text/plain": [
       "True"
      ]
     },
     "execution_count": 99,
     "metadata": {},
     "output_type": "execute_result"
    }
   ],
   "source": [
    "def check_vowel(char):\n",
    "    if(char == \"a\" or char == \"e\" or char == \"i\" or char == \"o\" or char == \"u\"):\n",
    "        return True\n",
    "    else:\n",
    "        return False\n",
    "\n",
    "check_vowel(\"a\")\n"
   ]
  },
  {
   "cell_type": "markdown",
   "metadata": {},
   "source": [
    "## Great job!"
   ]
  }
 ],
 "metadata": {
  "kernelspec": {
   "display_name": "Python 3",
   "language": "python",
   "name": "python3"
  },
  "language_info": {
   "codemirror_mode": {
    "name": "ipython",
    "version": 3
   },
   "file_extension": ".py",
   "mimetype": "text/x-python",
   "name": "python",
   "nbconvert_exporter": "python",
   "pygments_lexer": "ipython3",
   "version": "3.6.8"
  }
 },
 "nbformat": 4,
 "nbformat_minor": 2
}
