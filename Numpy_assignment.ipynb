{
 "cells": [
  {
   "cell_type": "code",
   "execution_count": 18,
   "metadata": {},
   "outputs": [
    {
     "name": "stdout",
     "output_type": "stream",
     "text": [
      "The input array is: [1 2 3 4 5] \n",
      "\n",
      "Number of columns in output matrix should be: 5 \n",
      "\n",
      "Matrix with Increasing power:\n",
      "\n",
      " [[  1   1   1   1   1]\n",
      " [  1   2   4   8  16]\n",
      " [  1   3   9  27  81]\n",
      " [  1   4  16  64 256]\n",
      " [  1   5  25 125 625]] \n",
      "\n",
      "Matrix with Decreasing power:\n",
      "\n",
      " [[  1   1   1   1   1]\n",
      " [ 16   8   4   2   1]\n",
      " [ 81  27   9   3   1]\n",
      " [256  64  16   4   1]\n",
      " [625 125  25   5   1]] \n",
      "\n"
     ]
    }
   ],
   "source": [
    "import numpy as np\n",
    "   \n",
    "def Vandermonde_matrix(input, n, increase):\n",
    "    if increase:\n",
    "        output = np.array([x**i for x in input for i in range(n)]).reshape(input.size,n)\n",
    "    else:\n",
    "        output = np.array([x**(n-i-1) for x in input for i in range(n)]).reshape(input.size,n)    \n",
    "    return output\n",
    "\n",
    "input_val = np.array([1,2,3,4,5])\n",
    "col = 5\n",
    "dec_order = Vandermonde_matrix(input_val,col,True)\n",
    "asc_order = Vandermonde_matrix(input_val,col,False)\n",
    "\n",
    "print(\"The input array is:\",input_val,\"\\n\")\n",
    "print(\"Number of columns in output matrix should be:\",col,\"\\n\")\n",
    "print(\"Matrix with Increasing power:\\n\\n\",dec_order,\"\\n\")\n",
    "print(\"Matrix with Decreasing power:\\n\\n\",asc_order,\"\\n\")"
   ]
  },
  {
   "cell_type": "code",
   "execution_count": 19,
   "metadata": {},
   "outputs": [
    {
     "data": {
      "text/plain": [
       "array([  5.        ,   4.66666667,   5.66666667,   6.66666667,\n",
       "         9.66666667,  28.66666667,  49.33333333,  72.66666667,\n",
       "        84.        ,  93.33333333, 116.33333333])"
      ]
     },
     "execution_count": 19,
     "metadata": {},
     "output_type": "execute_result"
    }
   ],
   "source": [
    "a = [3, 5, 7, 2, 8, 10, 11, 65, 72, 81, 99, 100, 150]\n",
    "n = 3\n",
    "\n",
    "def moving_average(a,n):\n",
    "    temp = np.cumsum(a)\n",
    "    temp[n:] = temp[n:] - temp[:-n]\n",
    "    return (temp[n - 1:] / n)\n",
    "\n",
    "moving_average(input,n)"
   ]
  },
  {
   "cell_type": "code",
   "execution_count": null,
   "metadata": {},
   "outputs": [],
   "source": []
  }
 ],
 "metadata": {
  "kernelspec": {
   "display_name": "Python 3",
   "language": "python",
   "name": "python3"
  },
  "language_info": {
   "codemirror_mode": {
    "name": "ipython",
    "version": 3
   },
   "file_extension": ".py",
   "mimetype": "text/x-python",
   "name": "python",
   "nbconvert_exporter": "python",
   "pygments_lexer": "ipython3",
   "version": "3.7.4"
  }
 },
 "nbformat": 4,
 "nbformat_minor": 2
}
